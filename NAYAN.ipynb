{
 "cells": [
  {
   "cell_type": "code",
   "execution_count": 1,
   "id": "b240c802",
   "metadata": {
    "execution": {
     "iopub.execute_input": "2024-12-25T15:39:42.711290Z",
     "iopub.status.busy": "2024-12-25T15:39:42.710994Z",
     "iopub.status.idle": "2024-12-25T15:39:45.855241Z",
     "shell.execute_reply": "2024-12-25T15:39:45.854163Z"
    },
    "papermill": {
     "duration": 3.149111,
     "end_time": "2024-12-25T15:39:45.856636",
     "exception": false,
     "start_time": "2024-12-25T15:39:42.707525",
     "status": "completed"
    },
    "tags": []
   },
   "outputs": [
    {
     "name": "stdout",
     "output_type": "stream",
     "text": [
      "Cloning into 'ultralytics'...\r\n",
      "remote: Enumerating objects: 46025, done.\u001b[K\r\n",
      "remote: Counting objects: 100% (916/916), done.\u001b[K\r\n",
      "remote: Compressing objects: 100% (567/567), done.\u001b[K\r\n",
      "remote: Total 46025 (delta 721), reused 374 (delta 349), pack-reused 45109 (from 5)\u001b[K\r\n",
      "Receiving objects: 100% (46025/46025), 39.31 MiB | 32.86 MiB/s, done.\r\n",
      "Resolving deltas: 100% (34045/34045), done.\r\n",
      "/kaggle/working/ultralytics\n"
     ]
    }
   ],
   "source": [
    "!git clone https://github.com/ultralytics/ultralytics.git\n",
    "%cd ultralytics"
   ]
  },
  {
   "cell_type": "code",
   "execution_count": 2,
   "id": "f1285647",
   "metadata": {
    "execution": {
     "iopub.execute_input": "2024-12-25T15:39:45.865997Z",
     "iopub.status.busy": "2024-12-25T15:39:45.865723Z",
     "iopub.status.idle": "2024-12-25T15:39:51.438493Z",
     "shell.execute_reply": "2024-12-25T15:39:51.437620Z"
    },
    "papermill": {
     "duration": 5.578917,
     "end_time": "2024-12-25T15:39:51.440129",
     "exception": false,
     "start_time": "2024-12-25T15:39:45.861212",
     "status": "completed"
    },
    "tags": []
   },
   "outputs": [
    {
     "name": "stdout",
     "output_type": "stream",
     "text": [
      "Collecting ultralytics\r\n",
      "  Downloading ultralytics-8.3.54-py3-none-any.whl.metadata (35 kB)\r\n",
      "Requirement already satisfied: numpy>=1.23.0 in /usr/local/lib/python3.10/dist-packages (from ultralytics) (1.26.4)\r\n",
      "Requirement already satisfied: matplotlib>=3.3.0 in /usr/local/lib/python3.10/dist-packages (from ultralytics) (3.7.1)\r\n",
      "Requirement already satisfied: opencv-python>=4.6.0 in /usr/local/lib/python3.10/dist-packages (from ultralytics) (4.10.0.84)\r\n",
      "Requirement already satisfied: pillow>=7.1.2 in /usr/local/lib/python3.10/dist-packages (from ultralytics) (10.4.0)\r\n",
      "Requirement already satisfied: pyyaml>=5.3.1 in /usr/local/lib/python3.10/dist-packages (from ultralytics) (6.0.2)\r\n",
      "Requirement already satisfied: requests>=2.23.0 in /usr/local/lib/python3.10/dist-packages (from ultralytics) (2.32.3)\r\n",
      "Requirement already satisfied: scipy>=1.4.1 in /usr/local/lib/python3.10/dist-packages (from ultralytics) (1.13.1)\r\n",
      "Requirement already satisfied: torch>=1.8.0 in /usr/local/lib/python3.10/dist-packages (from ultralytics) (2.4.1+cu121)\r\n",
      "Requirement already satisfied: torchvision>=0.9.0 in /usr/local/lib/python3.10/dist-packages (from ultralytics) (0.19.1+cu121)\r\n",
      "Requirement already satisfied: tqdm>=4.64.0 in /usr/local/lib/python3.10/dist-packages (from ultralytics) (4.66.5)\r\n",
      "Requirement already satisfied: psutil in /usr/local/lib/python3.10/dist-packages (from ultralytics) (5.9.5)\r\n",
      "Requirement already satisfied: py-cpuinfo in /usr/local/lib/python3.10/dist-packages (from ultralytics) (9.0.0)\r\n",
      "Requirement already satisfied: pandas>=1.1.4 in /usr/local/lib/python3.10/dist-packages (from ultralytics) (2.1.4)\r\n",
      "Requirement already satisfied: seaborn>=0.11.0 in /usr/local/lib/python3.10/dist-packages (from ultralytics) (0.12.2)\r\n",
      "Collecting ultralytics-thop>=2.0.0 (from ultralytics)\r\n",
      "  Downloading ultralytics_thop-2.0.13-py3-none-any.whl.metadata (9.4 kB)\r\n",
      "Requirement already satisfied: contourpy>=1.0.1 in /usr/local/lib/python3.10/dist-packages (from matplotlib>=3.3.0->ultralytics) (1.3.0)\r\n",
      "Requirement already satisfied: cycler>=0.10 in /usr/local/lib/python3.10/dist-packages (from matplotlib>=3.3.0->ultralytics) (0.12.1)\r\n",
      "Requirement already satisfied: fonttools>=4.22.0 in /usr/local/lib/python3.10/dist-packages (from matplotlib>=3.3.0->ultralytics) (4.53.1)\r\n",
      "Requirement already satisfied: kiwisolver>=1.0.1 in /usr/local/lib/python3.10/dist-packages (from matplotlib>=3.3.0->ultralytics) (1.4.7)\r\n",
      "Requirement already satisfied: packaging>=20.0 in /usr/local/lib/python3.10/dist-packages (from matplotlib>=3.3.0->ultralytics) (24.1)\r\n",
      "Requirement already satisfied: pyparsing>=2.3.1 in /usr/local/lib/python3.10/dist-packages (from matplotlib>=3.3.0->ultralytics) (3.1.4)\r\n",
      "Requirement already satisfied: python-dateutil>=2.7 in /usr/local/lib/python3.10/dist-packages (from matplotlib>=3.3.0->ultralytics) (2.8.2)\r\n",
      "Requirement already satisfied: pytz>=2020.1 in /usr/local/lib/python3.10/dist-packages (from pandas>=1.1.4->ultralytics) (2024.2)\r\n",
      "Requirement already satisfied: tzdata>=2022.1 in /usr/local/lib/python3.10/dist-packages (from pandas>=1.1.4->ultralytics) (2024.1)\r\n",
      "Requirement already satisfied: charset-normalizer<4,>=2 in /usr/local/lib/python3.10/dist-packages (from requests>=2.23.0->ultralytics) (3.3.2)\r\n",
      "Requirement already satisfied: idna<4,>=2.5 in /usr/local/lib/python3.10/dist-packages (from requests>=2.23.0->ultralytics) (3.10)\r\n",
      "Requirement already satisfied: urllib3<3,>=1.21.1 in /usr/local/lib/python3.10/dist-packages (from requests>=2.23.0->ultralytics) (2.2.3)\r\n",
      "Requirement already satisfied: certifi>=2017.4.17 in /usr/local/lib/python3.10/dist-packages (from requests>=2.23.0->ultralytics) (2024.8.30)\r\n",
      "Requirement already satisfied: filelock in /usr/local/lib/python3.10/dist-packages (from torch>=1.8.0->ultralytics) (3.16.1)\r\n",
      "Requirement already satisfied: typing-extensions>=4.8.0 in /usr/local/lib/python3.10/dist-packages (from torch>=1.8.0->ultralytics) (4.12.2)\r\n",
      "Requirement already satisfied: sympy in /usr/local/lib/python3.10/dist-packages (from torch>=1.8.0->ultralytics) (1.13.3)\r\n",
      "Requirement already satisfied: networkx in /usr/local/lib/python3.10/dist-packages (from torch>=1.8.0->ultralytics) (3.3)\r\n",
      "Requirement already satisfied: jinja2 in /usr/local/lib/python3.10/dist-packages (from torch>=1.8.0->ultralytics) (3.1.4)\r\n",
      "Requirement already satisfied: fsspec in /usr/local/lib/python3.10/dist-packages (from torch>=1.8.0->ultralytics) (2024.6.1)\r\n",
      "Requirement already satisfied: six>=1.5 in /usr/local/lib/python3.10/dist-packages (from python-dateutil>=2.7->matplotlib>=3.3.0->ultralytics) (1.16.0)\r\n",
      "Requirement already satisfied: MarkupSafe>=2.0 in /usr/local/lib/python3.10/dist-packages (from jinja2->torch>=1.8.0->ultralytics) (2.1.5)\r\n",
      "Requirement already satisfied: mpmath<1.4,>=1.1.0 in /usr/local/lib/python3.10/dist-packages (from sympy->torch>=1.8.0->ultralytics) (1.3.0)\r\n",
      "Downloading ultralytics-8.3.54-py3-none-any.whl (903 kB)\r\n",
      "\u001b[2K   \u001b[90m━━━━━━━━━━━━━━━━━━━━━━━━━━━━━━━━━━━━━━━━\u001b[0m \u001b[32m903.1/903.1 kB\u001b[0m \u001b[31m31.8 MB/s\u001b[0m eta \u001b[36m0:00:00\u001b[0m\r\n",
      "\u001b[?25hDownloading ultralytics_thop-2.0.13-py3-none-any.whl (26 kB)\r\n",
      "Installing collected packages: ultralytics-thop, ultralytics\r\n",
      "Successfully installed ultralytics-8.3.54 ultralytics-thop-2.0.13\r\n"
     ]
    }
   ],
   "source": [
    "!pip install ultralytics\n"
   ]
  },
  {
   "cell_type": "code",
   "execution_count": 3,
   "id": "6d8d9d4f",
   "metadata": {
    "execution": {
     "iopub.execute_input": "2024-12-25T15:39:51.450578Z",
     "iopub.status.busy": "2024-12-25T15:39:51.450338Z",
     "iopub.status.idle": "2024-12-25T15:39:54.537689Z",
     "shell.execute_reply": "2024-12-25T15:39:54.536838Z"
    },
    "papermill": {
     "duration": 3.094177,
     "end_time": "2024-12-25T15:39:54.539280",
     "exception": false,
     "start_time": "2024-12-25T15:39:51.445103",
     "status": "completed"
    },
    "tags": []
   },
   "outputs": [
    {
     "name": "stdout",
     "output_type": "stream",
     "text": [
      "Looking in indexes: https://download.pytorch.org/whl/cu118\r\n",
      "Requirement already satisfied: torch in /usr/local/lib/python3.10/dist-packages (2.4.1+cu121)\r\n",
      "Requirement already satisfied: torchvision in /usr/local/lib/python3.10/dist-packages (0.19.1+cu121)\r\n",
      "Requirement already satisfied: torchaudio in /usr/local/lib/python3.10/dist-packages (2.4.1+cu121)\r\n",
      "Requirement already satisfied: filelock in /usr/local/lib/python3.10/dist-packages (from torch) (3.16.1)\r\n",
      "Requirement already satisfied: typing-extensions>=4.8.0 in /usr/local/lib/python3.10/dist-packages (from torch) (4.12.2)\r\n",
      "Requirement already satisfied: sympy in /usr/local/lib/python3.10/dist-packages (from torch) (1.13.3)\r\n",
      "Requirement already satisfied: networkx in /usr/local/lib/python3.10/dist-packages (from torch) (3.3)\r\n",
      "Requirement already satisfied: jinja2 in /usr/local/lib/python3.10/dist-packages (from torch) (3.1.4)\r\n",
      "Requirement already satisfied: fsspec in /usr/local/lib/python3.10/dist-packages (from torch) (2024.6.1)\r\n",
      "Requirement already satisfied: numpy in /usr/local/lib/python3.10/dist-packages (from torchvision) (1.26.4)\r\n",
      "Requirement already satisfied: pillow!=8.3.*,>=5.3.0 in /usr/local/lib/python3.10/dist-packages (from torchvision) (10.4.0)\r\n",
      "Requirement already satisfied: MarkupSafe>=2.0 in /usr/local/lib/python3.10/dist-packages (from jinja2->torch) (2.1.5)\r\n",
      "Requirement already satisfied: mpmath<1.4,>=1.1.0 in /usr/local/lib/python3.10/dist-packages (from sympy->torch) (1.3.0)\r\n"
     ]
    }
   ],
   "source": [
    "!pip3 install torch torchvision torchaudio --index-url https://download.pytorch.org/whl/cu118"
   ]
  },
  {
   "cell_type": "code",
   "execution_count": 4,
   "id": "8594d55a",
   "metadata": {
    "execution": {
     "iopub.execute_input": "2024-12-25T15:39:54.549755Z",
     "iopub.status.busy": "2024-12-25T15:39:54.549509Z",
     "iopub.status.idle": "2024-12-25T15:39:57.753299Z",
     "shell.execute_reply": "2024-12-25T15:39:57.752426Z"
    },
    "papermill": {
     "duration": 3.210463,
     "end_time": "2024-12-25T15:39:57.754739",
     "exception": false,
     "start_time": "2024-12-25T15:39:54.544276",
     "status": "completed"
    },
    "tags": []
   },
   "outputs": [
    {
     "data": {
      "text/plain": [
       "True"
      ]
     },
     "execution_count": 4,
     "metadata": {},
     "output_type": "execute_result"
    }
   ],
   "source": [
    "import torch\n",
    "torch.cuda.is_available()"
   ]
  },
  {
   "cell_type": "code",
   "execution_count": 5,
   "id": "a8d97984",
   "metadata": {
    "execution": {
     "iopub.execute_input": "2024-12-25T15:39:57.765313Z",
     "iopub.status.busy": "2024-12-25T15:39:57.764950Z",
     "iopub.status.idle": "2024-12-25T15:39:57.890072Z",
     "shell.execute_reply": "2024-12-25T15:39:57.889049Z"
    },
    "papermill": {
     "duration": 0.131728,
     "end_time": "2024-12-25T15:39:57.891495",
     "exception": false,
     "start_time": "2024-12-25T15:39:57.759767",
     "status": "completed"
    },
    "tags": []
   },
   "outputs": [
    {
     "name": "stdout",
     "output_type": "stream",
     "text": [
      "input  lib  src  working\r\n"
     ]
    }
   ],
   "source": [
    "!ls /kaggle"
   ]
  },
  {
   "cell_type": "code",
   "execution_count": 6,
   "id": "39ce8e72",
   "metadata": {
    "execution": {
     "iopub.execute_input": "2024-12-25T15:39:57.901959Z",
     "iopub.status.busy": "2024-12-25T15:39:57.901705Z",
     "iopub.status.idle": "2024-12-25T15:39:58.022029Z",
     "shell.execute_reply": "2024-12-25T15:39:58.021014Z"
    },
    "papermill": {
     "duration": 0.127056,
     "end_time": "2024-12-25T15:39:58.023450",
     "exception": false,
     "start_time": "2024-12-25T15:39:57.896394",
     "status": "completed"
    },
    "tags": []
   },
   "outputs": [
    {
     "name": "stdout",
     "output_type": "stream",
     "text": [
      "dataset  yamlwow\r\n"
     ]
    }
   ],
   "source": [
    "!ls /kaggle/input"
   ]
  },
  {
   "cell_type": "code",
   "execution_count": 7,
   "id": "4e77da0b",
   "metadata": {
    "execution": {
     "iopub.execute_input": "2024-12-25T15:39:58.034178Z",
     "iopub.status.busy": "2024-12-25T15:39:58.033908Z",
     "iopub.status.idle": "2024-12-25T15:39:58.159511Z",
     "shell.execute_reply": "2024-12-25T15:39:58.158526Z"
    },
    "papermill": {
     "duration": 0.132498,
     "end_time": "2024-12-25T15:39:58.160798",
     "exception": false,
     "start_time": "2024-12-25T15:39:58.028300",
     "status": "completed"
    },
    "tags": []
   },
   "outputs": [
    {
     "name": "stdout",
     "output_type": "stream",
     "text": [
      "\r\n",
      "train: /kaggle/input/newdataset/images/train\r\n",
      "val: /kaggle/input/newdataset/images/val\r\n",
      "test: /kaggle/input/newdataset/images/test  # Optional\r\n",
      "\r\n",
      "nc: 10  # Number of classes\r\n",
      "names: ['Animal', 'Bed', 'Bench', 'Chair', 'Couch', 'Door', 'Person', 'Stairs', 'Table', 'Toilet']\r\n"
     ]
    }
   ],
   "source": [
    "# Write the dataset configuration file for YOLOv8\n",
    "dataset_config = \"\"\"\n",
    "train: /kaggle/input/newdataset/images/train\n",
    "val: /kaggle/input/newdataset/images/val\n",
    "test: /kaggle/input/newdataset/images/test  # Optional\n",
    "\n",
    "nc: 10  # Number of classes\n",
    "names: ['Animal', 'Bed', 'Bench', 'Chair', 'Couch', 'Door', 'Person', 'Stairs', 'Table', 'Toilet']\n",
    "\"\"\"\n",
    "\n",
    "# Save the YAML file\n",
    "with open('newdataset.yaml', 'w') as f:\n",
    "    f.write(dataset_config)\n",
    "\n",
    "# Verify the file\n",
    "!cat newdataset.yaml\n"
   ]
  },
  {
   "cell_type": "code",
   "execution_count": 8,
   "id": "8734ab2d",
   "metadata": {
    "execution": {
     "iopub.execute_input": "2024-12-25T15:39:58.171535Z",
     "iopub.status.busy": "2024-12-25T15:39:58.171262Z",
     "iopub.status.idle": "2024-12-25T15:39:58.291287Z",
     "shell.execute_reply": "2024-12-25T15:39:58.290505Z"
    },
    "papermill": {
     "duration": 0.126943,
     "end_time": "2024-12-25T15:39:58.292629",
     "exception": false,
     "start_time": "2024-12-25T15:39:58.165686",
     "status": "completed"
    },
    "tags": []
   },
   "outputs": [
    {
     "name": "stdout",
     "output_type": "stream",
     "text": [
      "dataset  yamlwow\r\n"
     ]
    }
   ],
   "source": [
    "!ls /kaggle/input"
   ]
  },
  {
   "cell_type": "code",
   "execution_count": null,
   "id": "d113eb5e",
   "metadata": {
    "papermill": {
     "duration": 0.005839,
     "end_time": "2024-12-25T15:39:58.303805",
     "exception": false,
     "start_time": "2024-12-25T15:39:58.297966",
     "status": "completed"
    },
    "tags": []
   },
   "outputs": [],
   "source": []
  }
 ],
 "metadata": {
  "kaggle": {
   "accelerator": "nvidiaTeslaT4",
   "dataSources": [
    {
     "datasetId": 6367834,
     "sourceId": 10289289,
     "sourceType": "datasetVersion"
    },
    {
     "datasetId": 6373129,
     "sourceId": 10296788,
     "sourceType": "datasetVersion"
    }
   ],
   "dockerImageVersionId": 30823,
   "isGpuEnabled": true,
   "isInternetEnabled": true,
   "language": "python",
   "sourceType": "notebook"
  },
  "kernelspec": {
   "display_name": "Python 3",
   "language": "python",
   "name": "python3"
  },
  "language_info": {
   "codemirror_mode": {
    "name": "ipython",
    "version": 3
   },
   "file_extension": ".py",
   "mimetype": "text/x-python",
   "name": "python",
   "nbconvert_exporter": "python",
   "pygments_lexer": "ipython3",
   "version": "3.10.12"
  },
  "papermill": {
   "default_parameters": {},
   "duration": 18.91811,
   "end_time": "2024-12-25T15:39:59.427235",
   "environment_variables": {},
   "exception": null,
   "input_path": "__notebook__.ipynb",
   "output_path": "__notebook__.ipynb",
   "parameters": {},
   "start_time": "2024-12-25T15:39:40.509125",
   "version": "2.6.0"
  }
 },
 "nbformat": 4,
 "nbformat_minor": 5
}
